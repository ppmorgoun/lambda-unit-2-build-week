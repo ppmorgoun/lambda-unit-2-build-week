{
 "metadata": {
  "language_info": {
   "codemirror_mode": {
    "name": "ipython",
    "version": 3
   },
   "file_extension": ".py",
   "mimetype": "text/x-python",
   "name": "python",
   "nbconvert_exporter": "python",
   "pygments_lexer": "ipython3",
   "version": "3.8.8-final"
  },
  "orig_nbformat": 2,
  "kernelspec": {
   "name": "python388jvsc74a57bd079540215d421b8bf3833d62b2c896ecc484592ad17eec5ea5f30ad9734ddc367",
   "display_name": "Python 3.8.8 64-bit ('unit_2': conda)"
  }
 },
 "nbformat": 4,
 "nbformat_minor": 2,
 "cells": [
  {
   "cell_type": "code",
   "execution_count": 55,
   "metadata": {},
   "outputs": [],
   "source": [
    "# Imports\n",
    "\n",
    "import pandas as pd\n",
    "import pandas_profiling\n",
    "import numpy as np\n",
    "import seaborn as sns\n",
    "import matplotlib.pyplot as plt\n",
    "from pathlib import Path\n",
    "\n",
    "pd.options.display.max_rows = 80"
   ]
  },
  {
   "cell_type": "code",
   "execution_count": 56,
   "metadata": {},
   "outputs": [],
   "source": [
    "# Data \n",
    "\n",
    "data_path = Path('../data/project')\n",
    "df = pd.read_csv(data_path/'train.csv', index_col = 'Id')\n",
    "X_test = pd.read_csv(data_path/'test.csv', index_col = 'Id')"
   ]
  },
  {
   "cell_type": "code",
   "execution_count": 57,
   "metadata": {},
   "outputs": [
    {
     "output_type": "stream",
     "name": "stdout",
     "text": [
      "Numeric features: 36, categorical features: 43, total features: 79\n"
     ]
    }
   ],
   "source": [
    "# Splitting features into types\n",
    "target = 'SalePrice'\n",
    "X = df.drop(columns=[target])\n",
    "y = df[target]\n",
    "\n",
    "num_features = X.dtypes[X.dtypes != 'object'].index\n",
    "cat_features = X.dtypes[X.dtypes == 'object'].index\n",
    "cardinality = X[cat_features].nunique()\n",
    "\n",
    "print(f'Numeric features: {len(num_features)}, categorical features: {len(cat_features)}, total features: {X.shape[1]}')"
   ]
  },
  {
   "cell_type": "code",
   "execution_count": 58,
   "metadata": {},
   "outputs": [],
   "source": [
    "# applying log transform to the target variable\n",
    "y = y.apply(lambda x: np.log(x))"
   ]
  },
  {
   "cell_type": "code",
   "execution_count": 59,
   "metadata": {},
   "outputs": [],
   "source": [
    "from sklearn.preprocessing import StandardScaler\n",
    "import category_encoders as ce\n",
    "\n",
    "# Defining our main preprocessing function:\n",
    "def preprocess(X):\n",
    "    X = X.copy()\n",
    "    \n",
    "    # Changing all the NaN values to zeros\n",
    "    X = X.fillna(0)\n",
    "\n",
    "    # Encoding categorical encoders ordinally\n",
    "    X_cat = X[cat_features]\n",
    "    oe = ce.OrdinalEncoder()\n",
    "    X_cat = oe.fit_transform(X_cat)\n",
    "\n",
    "    # Merging out numeric and categorical features back together\n",
    "    X = pd.concat([X[num_features], X_cat], axis = 1)\n",
    "\n",
    "    return X\n",
    "\n",
    "X_preprocessed = preprocess(X)\n",
    "X_test_pp = preprocess(X_test)\n",
    "\n"
   ]
  },
  {
   "cell_type": "code",
   "execution_count": 60,
   "metadata": {},
   "outputs": [],
   "source": [
    "# Exporting our new data into csv files\n",
    "path = '../data/project/'\n",
    "\n",
    "# Training data\n",
    "X_preprocessed.to_csv(path+'X_train_preprocessed.csv')\n",
    "y.to_csv(path+'y_train_preprocessed.csv')\n",
    "\n",
    "# Test data\n",
    "X_test_pp.to_csv(path+'X_test_preprocessed.csv')\n"
   ]
  }
 ]
}