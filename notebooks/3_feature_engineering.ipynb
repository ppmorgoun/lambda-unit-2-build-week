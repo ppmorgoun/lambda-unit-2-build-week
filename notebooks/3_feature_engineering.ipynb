{
 "metadata": {
  "language_info": {
   "codemirror_mode": {
    "name": "ipython",
    "version": 3
   },
   "file_extension": ".py",
   "mimetype": "text/x-python",
   "name": "python",
   "nbconvert_exporter": "python",
   "pygments_lexer": "ipython3",
   "version": "3.8.8"
  },
  "orig_nbformat": 2,
  "kernelspec": {
   "name": "python388jvsc74a57bd079540215d421b8bf3833d62b2c896ecc484592ad17eec5ea5f30ad9734ddc367",
   "display_name": "Python 3.8.8 64-bit ('unit_2': conda)"
  }
 },
 "nbformat": 4,
 "nbformat_minor": 2,
 "cells": [
  {
   "cell_type": "code",
   "execution_count": 1,
   "metadata": {},
   "outputs": [],
   "source": [
    "# Imports\n",
    "\n",
    "import pandas as pd\n",
    "import pandas_profiling\n",
    "import numpy as np\n",
    "import seaborn as sns\n",
    "import matplotlib.pyplot as plt\n",
    "from pathlib import Path\n",
    "\n",
    "pd.options.display.max_rows = 80"
   ]
  },
  {
   "cell_type": "code",
   "execution_count": 2,
   "metadata": {},
   "outputs": [],
   "source": [
    "# Data \n",
    "\n",
    "data_path = Path('../data/project')\n",
    "X = pd.read_csv(data_path/'X_train_preprocessed.csv', index_col = 'Id')\n",
    "y = pd.read_csv(data_path/'y_train_preprocessed.csv', index_col = 'Id')\n",
    "X_test = pd.read_csv(data_path/'X_test_preprocessed.csv', index_col = 'Id')\n",
    "\n",
    "X_full = pd.read_csv(data_path/'train.csv', index_col = 'Id')"
   ]
  },
  {
   "source": [
    "# Feature engineering\n",
    "* Total frontage "
   ],
   "cell_type": "markdown",
   "metadata": {}
  },
  {
   "cell_type": "code",
   "execution_count": 3,
   "metadata": {},
   "outputs": [
    {
     "output_type": "execute_result",
     "data": {
      "text/plain": [
       "Index(['LotFrontage', 'Alley', 'MasVnrType', 'MasVnrArea', 'BsmtQual',\n",
       "       'BsmtCond', 'BsmtExposure', 'BsmtFinType1', 'BsmtFinType2',\n",
       "       'Electrical', 'FireplaceQu', 'GarageType', 'GarageYrBlt',\n",
       "       'GarageFinish', 'GarageQual', 'GarageCond', 'PoolQC', 'Fence',\n",
       "       'MiscFeature'],\n",
       "      dtype='object')"
      ]
     },
     "metadata": {},
     "execution_count": 3
    }
   ],
   "source": [
    "# Finding out which features are not standard at houses\n",
    "\n",
    "mask = [False if i == 0 else True for i in X_full.isna().sum()]\n",
    "has_na_cols = X_full.columns[mask]\n",
    "has_na_cols"
   ]
  },
  {
   "cell_type": "code",
   "execution_count": 4,
   "metadata": {},
   "outputs": [],
   "source": [
    "def create_features(X):\n",
    "\n",
    "    X = X.copy()\n",
    "\n",
    "    # Total square feet\n",
    "    X['TotalSF'] = X['TotalBsmtSF'] + X['1stFlrSF'] + X['2ndFlrSF']\n",
    "\n",
    "    # Boolean for if the property has a various features\n",
    "    feats = ['LotFrontage', 'Alley', 'MasVnrType', 'BsmtQual', 'Electrical', 'FireplaceQu', 'GarageType', 'PoolQC', 'Fence',\n",
    "    'MiscFeature']\n",
    "    for feature in feats:\n",
    "        X['has_'+feature] = X_full[feature].apply(lambda x: 1 if x == x else 0)\n",
    "\n",
    "    return X\n",
    "\n",
    "X_engineered = create_features(X)\n",
    "X_test_engineered = create_features(X_test)"
   ]
  },
  {
   "cell_type": "code",
   "execution_count": 5,
   "metadata": {},
   "outputs": [
    {
     "output_type": "stream",
     "name": "stdout",
     "text": [
      "LotFrontage percentage that isn't NA: 82.26027397260273\nAlley percentage that isn't NA: 6.232876712328768\nMasVnrType percentage that isn't NA: 99.45205479452055\nBsmtQual percentage that isn't NA: 97.46575342465754\nElectrical percentage that isn't NA: 99.93150684931507\nFireplaceQu percentage that isn't NA: 52.73972602739726\nGarageType percentage that isn't NA: 94.45205479452055\nPoolQC percentage that isn't NA: 0.4794520547945206\nFence percentage that isn't NA: 19.246575342465754\nMiscFeature percentage that isn't NA: 3.6986301369863015\n"
     ]
    }
   ],
   "source": [
    "# Testing to see if the binary 'has_feature' engineering worked\n",
    "\n",
    "feats = ['LotFrontage', 'Alley', 'MasVnrType', 'BsmtQual', 'Electrical', 'FireplaceQu', 'GarageType', 'PoolQC', 'Fence',\n",
    "    'MiscFeature']\n",
    "for i in feats:\n",
    "    print(f'{i} percentage that isn\\'t NA:', X_engineered['has_'+i].sum() / X_engineered.shape[0]*100)"
   ]
  },
  {
   "cell_type": "code",
   "execution_count": 6,
   "metadata": {},
   "outputs": [
    {
     "output_type": "error",
     "ename": "NameError",
     "evalue": "name 'X_train' is not defined",
     "traceback": [
      "\u001b[0;31m---------------------------------------------------------------------------\u001b[0m",
      "\u001b[0;31mNameError\u001b[0m                                 Traceback (most recent call last)",
      "\u001b[0;32m<ipython-input-6-646e017df883>\u001b[0m in \u001b[0;36m<module>\u001b[0;34m\u001b[0m\n\u001b[0;32m----> 1\u001b[0;31m \u001b[0mX_train\u001b[0m\u001b[0;34m.\u001b[0m\u001b[0minfo\u001b[0m\u001b[0;34m(\u001b[0m\u001b[0;34m\"\"\u001b[0m\u001b[0;34m)\u001b[0m\u001b[0;34m\u001b[0m\u001b[0;34m\u001b[0m\u001b[0m\n\u001b[0m",
      "\u001b[0;31mNameError\u001b[0m: name 'X_train' is not defined"
     ]
    }
   ],
   "source": [
    "X_train.info(\"\")"
   ]
  },
  {
   "cell_type": "code",
   "execution_count": 7,
   "metadata": {},
   "outputs": [
    {
     "output_type": "stream",
     "name": "stderr",
     "text": [
      "<ipython-input-7-38c8abf788ca>:10: DataConversionWarning: A column-vector y was passed when a 1d array was expected. Please change the shape of y to (n_samples,), for example using ravel().\n  model_rf.fit(X_train, y_train)\n"
     ]
    },
    {
     "output_type": "execute_result",
     "data": {
      "text/plain": [
       "RandomForestRegressor(n_jobs=-1)"
      ]
     },
     "metadata": {},
     "execution_count": 7
    }
   ],
   "source": [
    "# Baseline linear model\n",
    "\n",
    "from sklearn.ensemble import RandomForestRegressor\n",
    "from sklearn.model_selection import train_test_split\n",
    "\n",
    "\n",
    "X_train, X_val, y_train, y_val = train_test_split(X_engineered, y, test_size = 0.2)\n",
    "\n",
    "model_rf = RandomForestRegressor(n_jobs=-1)\n",
    "model_rf.fit(X_train, y_train)"
   ]
  },
  {
   "cell_type": "code",
   "execution_count": 8,
   "metadata": {},
   "outputs": [
    {
     "output_type": "stream",
     "name": "stdout",
     "text": [
      "The training RMSE of my RF baseline is: 10808.99275828359\nThe validation RMSE of my RF baseline is: 32431.358892526747\n"
     ]
    }
   ],
   "source": [
    "# Getting baseline RMSE\n",
    "\n",
    "from sklearn.metrics import mean_squared_error as mse\n",
    "\n",
    "y_pred = model_rf.predict(X_val)\n",
    "\n",
    "# Reversing the log target\n",
    "y_pred = np.exp(y_pred)\n",
    "\n",
    "y_pred_train = model_rf.predict(X_train)\n",
    "y_pred_train = np.exp(y_pred_train)\n",
    "\n",
    "y_val = np.exp(y_val)\n",
    "rmse_baseline = mse(y_val, y_pred, squared=False)\n",
    "rmse_train = mse(np.exp(y_train), y_pred_train, squared=False)\n",
    "\n",
    "print(f'The training RMSE of my RF baseline is: {rmse_train}')\n",
    "print(f'The validation RMSE of my RF baseline is: {rmse_baseline}')"
   ]
  },
  {
   "cell_type": "code",
   "execution_count": 13,
   "metadata": {},
   "outputs": [
    {
     "output_type": "execute_result",
     "data": {
      "text/plain": [
       "      MSSubClass  LotFrontage  LotArea  OverallQual  OverallCond  YearBuilt  \\\n",
       "Id                                                                            \n",
       "541           20         85.0    14601            9            5       2006   \n",
       "323           60         86.0    10380            7            5       1986   \n",
       "256           60         66.0     8738            7            5       1999   \n",
       "881           20         60.0     7024            5            5       2005   \n",
       "1102          20         61.0     9758            5            5       1971   \n",
       "...          ...          ...      ...          ...          ...        ...   \n",
       "81            60        100.0    13000            6            6       1968   \n",
       "459           70          0.0     5100            8            7       1925   \n",
       "386          120         43.0     3182            8            5       2004   \n",
       "41            20         84.0     8658            6            5       1965   \n",
       "631           70         50.0     9000            5            6       1880   \n",
       "\n",
       "      YearRemodAdd  MasVnrArea  BsmtFinSF1  BsmtFinSF2  ...  has_LotFrontage  \\\n",
       "Id                                                      ...                    \n",
       "541           2006       584.0        1260           0  ...                1   \n",
       "323           1987       172.0          28        1474  ...                1   \n",
       "256           1999       302.0           0           0  ...                1   \n",
       "881           2006         0.0         980           0  ...                1   \n",
       "1102          1971         0.0         412         287  ...                1   \n",
       "...            ...         ...         ...         ...  ...              ...   \n",
       "81            1968       576.0         448           0  ...                1   \n",
       "459           1996         0.0           0           0  ...                0   \n",
       "386           2005        16.0          24           0  ...                1   \n",
       "41            1965       101.0         643           0  ...                1   \n",
       "631           1991         0.0           0           0  ...                1   \n",
       "\n",
       "      has_Alley  has_MasVnrType  has_BsmtQual  has_Electrical  \\\n",
       "Id                                                              \n",
       "541           0               1             1               1   \n",
       "323           0               1             1               1   \n",
       "256           0               1             1               1   \n",
       "881           0               1             1               1   \n",
       "1102          0               1             1               1   \n",
       "...         ...             ...           ...             ...   \n",
       "81            0               1             1               1   \n",
       "459           1               1             1               1   \n",
       "386           0               1             1               1   \n",
       "41            0               1             1               1   \n",
       "631           1               1             1               1   \n",
       "\n",
       "      has_FireplaceQu  has_GarageType  has_PoolQC  has_Fence  has_MiscFeature  \n",
       "Id                                                                             \n",
       "541                 1               1           0          0                0  \n",
       "323                 1               1           0          1                0  \n",
       "256                 1               1           0          0                0  \n",
       "881                 0               1           0          0                0  \n",
       "1102                0               1           0          0                0  \n",
       "...               ...             ...         ...        ...              ...  \n",
       "81                  1               1           0          0                0  \n",
       "459                 1               1           0          1                0  \n",
       "386                 1               1           0          0                0  \n",
       "41                  1               1           0          1                0  \n",
       "631                 0               1           0          1                0  \n",
       "\n",
       "[292 rows x 90 columns]"
      ],
      "text/html": "<div>\n<style scoped>\n    .dataframe tbody tr th:only-of-type {\n        vertical-align: middle;\n    }\n\n    .dataframe tbody tr th {\n        vertical-align: top;\n    }\n\n    .dataframe thead th {\n        text-align: right;\n    }\n</style>\n<table border=\"1\" class=\"dataframe\">\n  <thead>\n    <tr style=\"text-align: right;\">\n      <th></th>\n      <th>MSSubClass</th>\n      <th>LotFrontage</th>\n      <th>LotArea</th>\n      <th>OverallQual</th>\n      <th>OverallCond</th>\n      <th>YearBuilt</th>\n      <th>YearRemodAdd</th>\n      <th>MasVnrArea</th>\n      <th>BsmtFinSF1</th>\n      <th>BsmtFinSF2</th>\n      <th>...</th>\n      <th>has_LotFrontage</th>\n      <th>has_Alley</th>\n      <th>has_MasVnrType</th>\n      <th>has_BsmtQual</th>\n      <th>has_Electrical</th>\n      <th>has_FireplaceQu</th>\n      <th>has_GarageType</th>\n      <th>has_PoolQC</th>\n      <th>has_Fence</th>\n      <th>has_MiscFeature</th>\n    </tr>\n    <tr>\n      <th>Id</th>\n      <th></th>\n      <th></th>\n      <th></th>\n      <th></th>\n      <th></th>\n      <th></th>\n      <th></th>\n      <th></th>\n      <th></th>\n      <th></th>\n      <th></th>\n      <th></th>\n      <th></th>\n      <th></th>\n      <th></th>\n      <th></th>\n      <th></th>\n      <th></th>\n      <th></th>\n      <th></th>\n      <th></th>\n    </tr>\n  </thead>\n  <tbody>\n    <tr>\n      <th>541</th>\n      <td>20</td>\n      <td>85.0</td>\n      <td>14601</td>\n      <td>9</td>\n      <td>5</td>\n      <td>2006</td>\n      <td>2006</td>\n      <td>584.0</td>\n      <td>1260</td>\n      <td>0</td>\n      <td>...</td>\n      <td>1</td>\n      <td>0</td>\n      <td>1</td>\n      <td>1</td>\n      <td>1</td>\n      <td>1</td>\n      <td>1</td>\n      <td>0</td>\n      <td>0</td>\n      <td>0</td>\n    </tr>\n    <tr>\n      <th>323</th>\n      <td>60</td>\n      <td>86.0</td>\n      <td>10380</td>\n      <td>7</td>\n      <td>5</td>\n      <td>1986</td>\n      <td>1987</td>\n      <td>172.0</td>\n      <td>28</td>\n      <td>1474</td>\n      <td>...</td>\n      <td>1</td>\n      <td>0</td>\n      <td>1</td>\n      <td>1</td>\n      <td>1</td>\n      <td>1</td>\n      <td>1</td>\n      <td>0</td>\n      <td>1</td>\n      <td>0</td>\n    </tr>\n    <tr>\n      <th>256</th>\n      <td>60</td>\n      <td>66.0</td>\n      <td>8738</td>\n      <td>7</td>\n      <td>5</td>\n      <td>1999</td>\n      <td>1999</td>\n      <td>302.0</td>\n      <td>0</td>\n      <td>0</td>\n      <td>...</td>\n      <td>1</td>\n      <td>0</td>\n      <td>1</td>\n      <td>1</td>\n      <td>1</td>\n      <td>1</td>\n      <td>1</td>\n      <td>0</td>\n      <td>0</td>\n      <td>0</td>\n    </tr>\n    <tr>\n      <th>881</th>\n      <td>20</td>\n      <td>60.0</td>\n      <td>7024</td>\n      <td>5</td>\n      <td>5</td>\n      <td>2005</td>\n      <td>2006</td>\n      <td>0.0</td>\n      <td>980</td>\n      <td>0</td>\n      <td>...</td>\n      <td>1</td>\n      <td>0</td>\n      <td>1</td>\n      <td>1</td>\n      <td>1</td>\n      <td>0</td>\n      <td>1</td>\n      <td>0</td>\n      <td>0</td>\n      <td>0</td>\n    </tr>\n    <tr>\n      <th>1102</th>\n      <td>20</td>\n      <td>61.0</td>\n      <td>9758</td>\n      <td>5</td>\n      <td>5</td>\n      <td>1971</td>\n      <td>1971</td>\n      <td>0.0</td>\n      <td>412</td>\n      <td>287</td>\n      <td>...</td>\n      <td>1</td>\n      <td>0</td>\n      <td>1</td>\n      <td>1</td>\n      <td>1</td>\n      <td>0</td>\n      <td>1</td>\n      <td>0</td>\n      <td>0</td>\n      <td>0</td>\n    </tr>\n    <tr>\n      <th>...</th>\n      <td>...</td>\n      <td>...</td>\n      <td>...</td>\n      <td>...</td>\n      <td>...</td>\n      <td>...</td>\n      <td>...</td>\n      <td>...</td>\n      <td>...</td>\n      <td>...</td>\n      <td>...</td>\n      <td>...</td>\n      <td>...</td>\n      <td>...</td>\n      <td>...</td>\n      <td>...</td>\n      <td>...</td>\n      <td>...</td>\n      <td>...</td>\n      <td>...</td>\n      <td>...</td>\n    </tr>\n    <tr>\n      <th>81</th>\n      <td>60</td>\n      <td>100.0</td>\n      <td>13000</td>\n      <td>6</td>\n      <td>6</td>\n      <td>1968</td>\n      <td>1968</td>\n      <td>576.0</td>\n      <td>448</td>\n      <td>0</td>\n      <td>...</td>\n      <td>1</td>\n      <td>0</td>\n      <td>1</td>\n      <td>1</td>\n      <td>1</td>\n      <td>1</td>\n      <td>1</td>\n      <td>0</td>\n      <td>0</td>\n      <td>0</td>\n    </tr>\n    <tr>\n      <th>459</th>\n      <td>70</td>\n      <td>0.0</td>\n      <td>5100</td>\n      <td>8</td>\n      <td>7</td>\n      <td>1925</td>\n      <td>1996</td>\n      <td>0.0</td>\n      <td>0</td>\n      <td>0</td>\n      <td>...</td>\n      <td>0</td>\n      <td>1</td>\n      <td>1</td>\n      <td>1</td>\n      <td>1</td>\n      <td>1</td>\n      <td>1</td>\n      <td>0</td>\n      <td>1</td>\n      <td>0</td>\n    </tr>\n    <tr>\n      <th>386</th>\n      <td>120</td>\n      <td>43.0</td>\n      <td>3182</td>\n      <td>8</td>\n      <td>5</td>\n      <td>2004</td>\n      <td>2005</td>\n      <td>16.0</td>\n      <td>24</td>\n      <td>0</td>\n      <td>...</td>\n      <td>1</td>\n      <td>0</td>\n      <td>1</td>\n      <td>1</td>\n      <td>1</td>\n      <td>1</td>\n      <td>1</td>\n      <td>0</td>\n      <td>0</td>\n      <td>0</td>\n    </tr>\n    <tr>\n      <th>41</th>\n      <td>20</td>\n      <td>84.0</td>\n      <td>8658</td>\n      <td>6</td>\n      <td>5</td>\n      <td>1965</td>\n      <td>1965</td>\n      <td>101.0</td>\n      <td>643</td>\n      <td>0</td>\n      <td>...</td>\n      <td>1</td>\n      <td>0</td>\n      <td>1</td>\n      <td>1</td>\n      <td>1</td>\n      <td>1</td>\n      <td>1</td>\n      <td>0</td>\n      <td>1</td>\n      <td>0</td>\n    </tr>\n    <tr>\n      <th>631</th>\n      <td>70</td>\n      <td>50.0</td>\n      <td>9000</td>\n      <td>5</td>\n      <td>6</td>\n      <td>1880</td>\n      <td>1991</td>\n      <td>0.0</td>\n      <td>0</td>\n      <td>0</td>\n      <td>...</td>\n      <td>1</td>\n      <td>1</td>\n      <td>1</td>\n      <td>1</td>\n      <td>1</td>\n      <td>0</td>\n      <td>1</td>\n      <td>0</td>\n      <td>1</td>\n      <td>0</td>\n    </tr>\n  </tbody>\n</table>\n<p>292 rows × 90 columns</p>\n</div>"
     },
     "metadata": {},
     "execution_count": 13
    }
   ],
   "source": [
    "X_val"
   ]
  },
  {
   "cell_type": "code",
   "execution_count": 9,
   "metadata": {},
   "outputs": [
    {
     "output_type": "execute_result",
     "data": {
      "text/plain": [
       "PermutationImportance(estimator=RandomForestRegressor(n_jobs=-1))"
      ]
     },
     "metadata": {},
     "execution_count": 9
    }
   ],
   "source": [
    "# Checking out the feature premutation importances\n",
    "import eli5\n",
    "from eli5.sklearn import PermutationImportance\n",
    "\n",
    "permuter = PermutationImportance(\n",
    "    model_rf,\n",
    "    n_iter = 5\n",
    ")\n",
    "permuter.fit(X_val, y_val)"
   ]
  },
  {
   "cell_type": "code",
   "execution_count": 14,
   "metadata": {},
   "outputs": [
    {
     "output_type": "execute_result",
     "data": {
      "text/plain": [
       "<IPython.core.display.HTML object>"
      ],
      "text/html": "\n    <style>\n    table.eli5-weights tr:hover {\n        filter: brightness(85%);\n    }\n</style>\n\n\n\n    \n\n    \n\n    \n\n    \n\n    \n\n    \n\n\n    \n\n    \n\n    \n\n    \n\n    \n\n    \n\n\n    \n\n    \n\n    \n\n    \n\n    \n        <table class=\"eli5-weights eli5-feature-importances\" style=\"border-collapse: collapse; border: none; margin-top: 0em; table-layout: auto;\">\n    <thead>\n    <tr style=\"border: none;\">\n        <th style=\"padding: 0 1em 0 0.5em; text-align: right; border: none;\">Weight</th>\n        <th style=\"padding: 0 0.5em 0 0.5em; text-align: left; border: none;\">Feature</th>\n    </tr>\n    </thead>\n    <tbody>\n    \n        <tr style=\"background-color: hsl(120, 100.00%, 80.00%); border: none;\">\n            <td style=\"padding: 0 1em 0 0.5em; text-align: right; border: none;\">\n                0.0000\n                \n                    &plusmn; 0.0000\n                \n            </td>\n            <td style=\"padding: 0 0.5em 0 0.5em; text-align: left; border: none;\">\n                TotalSF\n            </td>\n        </tr>\n    \n        <tr style=\"background-color: hsl(120, 100.00%, 83.22%); border: none;\">\n            <td style=\"padding: 0 1em 0 0.5em; text-align: right; border: none;\">\n                0.0000\n                \n                    &plusmn; 0.0000\n                \n            </td>\n            <td style=\"padding: 0 0.5em 0 0.5em; text-align: left; border: none;\">\n                OverallQual\n            </td>\n        </tr>\n    \n        <tr style=\"background-color: hsl(120, 100.00%, 94.48%); border: none;\">\n            <td style=\"padding: 0 1em 0 0.5em; text-align: right; border: none;\">\n                0.0000\n                \n                    &plusmn; 0.0000\n                \n            </td>\n            <td style=\"padding: 0 0.5em 0 0.5em; text-align: left; border: none;\">\n                YearRemodAdd\n            </td>\n        </tr>\n    \n        <tr style=\"background-color: hsl(120, 100.00%, 95.79%); border: none;\">\n            <td style=\"padding: 0 1em 0 0.5em; text-align: right; border: none;\">\n                0.0000\n                \n                    &plusmn; 0.0000\n                \n            </td>\n            <td style=\"padding: 0 0.5em 0 0.5em; text-align: left; border: none;\">\n                GarageCars\n            </td>\n        </tr>\n    \n        <tr style=\"background-color: hsl(120, 100.00%, 97.02%); border: none;\">\n            <td style=\"padding: 0 1em 0 0.5em; text-align: right; border: none;\">\n                0.0000\n                \n                    &plusmn; 0.0000\n                \n            </td>\n            <td style=\"padding: 0 0.5em 0 0.5em; text-align: left; border: none;\">\n                BsmtFinSF1\n            </td>\n        </tr>\n    \n        <tr style=\"background-color: hsl(120, 100.00%, 97.11%); border: none;\">\n            <td style=\"padding: 0 1em 0 0.5em; text-align: right; border: none;\">\n                0.0000\n                \n                    &plusmn; 0.0000\n                \n            </td>\n            <td style=\"padding: 0 0.5em 0 0.5em; text-align: left; border: none;\">\n                GarageArea\n            </td>\n        </tr>\n    \n        <tr style=\"background-color: hsl(120, 100.00%, 97.81%); border: none;\">\n            <td style=\"padding: 0 1em 0 0.5em; text-align: right; border: none;\">\n                0.0000\n                \n                    &plusmn; 0.0000\n                \n            </td>\n            <td style=\"padding: 0 0.5em 0 0.5em; text-align: left; border: none;\">\n                GrLivArea\n            </td>\n        </tr>\n    \n        <tr style=\"background-color: hsl(120, 100.00%, 98.17%); border: none;\">\n            <td style=\"padding: 0 1em 0 0.5em; text-align: right; border: none;\">\n                0.0000\n                \n                    &plusmn; 0.0000\n                \n            </td>\n            <td style=\"padding: 0 0.5em 0 0.5em; text-align: left; border: none;\">\n                KitchenQual\n            </td>\n        </tr>\n    \n        <tr style=\"background-color: hsl(120, 100.00%, 98.51%); border: none;\">\n            <td style=\"padding: 0 1em 0 0.5em; text-align: right; border: none;\">\n                0.0000\n                \n                    &plusmn; 0.0000\n                \n            </td>\n            <td style=\"padding: 0 0.5em 0 0.5em; text-align: left; border: none;\">\n                LotArea\n            </td>\n        </tr>\n    \n        <tr style=\"background-color: hsl(120, 100.00%, 98.65%); border: none;\">\n            <td style=\"padding: 0 1em 0 0.5em; text-align: right; border: none;\">\n                0.0000\n                \n                    &plusmn; 0.0000\n                \n            </td>\n            <td style=\"padding: 0 0.5em 0 0.5em; text-align: left; border: none;\">\n                YearBuilt\n            </td>\n        </tr>\n    \n    \n        \n            <tr style=\"background-color: hsl(120, 100.00%, 98.65%); border: none;\">\n                <td colspan=\"2\" style=\"padding: 0 0.5em 0 0.5em; text-align: center; border: none; white-space: nowrap;\">\n                    <i>&hellip; 80 more &hellip;</i>\n                </td>\n            </tr>\n        \n    \n    </tbody>\n</table>\n    \n\n    \n\n\n    \n\n    \n\n    \n\n    \n\n    \n\n    \n\n\n\n"
     },
     "metadata": {},
     "execution_count": 14
    }
   ],
   "source": [
    "# Viewing the top permutation importance features\n",
    "feature_names = X_train.columns.to_list()\n",
    "\n",
    "eli5.show_weights(\n",
    "    permuter,\n",
    "    top=10,\n",
    "    feature_names = feature_names\n",
    ")"
   ]
  },
  {
   "cell_type": "code",
   "execution_count": 66,
   "metadata": {},
   "outputs": [
    {
     "output_type": "stream",
     "name": "stdout",
     "text": [
      "Shape of X_train before removing features: (1460, 90)\nShape after removing features:  (1460, 49)\n"
     ]
    }
   ],
   "source": [
    "# Manually removing any features that a below 0.00001 permutation importance score\n",
    "cutoff = 0.00001\n",
    "\n",
    "mask = permuter.feature_importances_ >= cutoff\n",
    "\n",
    "new_features = X_engineered.columns[mask]\n",
    "\n",
    "X_trans = X_engineered.copy()\n",
    "X_trans = X_trans[new_features]\n",
    "X_test_trans = X_test_engineered.copy()\n",
    "X_test_trans = X_test_trans[new_features]\n",
    "print(f'Shape of X_train before removing features: {X_engineered.shape}')\n",
    "print('Shape after removing features: ', X_trans.shape)"
   ]
  },
  {
   "cell_type": "code",
   "execution_count": null,
   "metadata": {},
   "outputs": [],
   "source": [
    "# Think about removing any outliers:\n",
    "\n",
    "# Remove the most extreme 1% prices,\n",
    "# the most extreme .1% latitudes, &\n",
    "# the most extreme .1% longitudes\n",
    "df = df[(df['price'] >= np.percentile(df['price'], 0.5)) & \n",
    "        (df['price'] <= np.percentile(df['price'], 99.5)) & \n",
    "        (df['latitude'] >= np.percentile(df['latitude'], 0.05)) & \n",
    "        (df['latitude'] < np.percentile(df['latitude'], 99.95)) &\n",
    "        (df['longitude'] >= np.percentile(df['longitude'], 0.05)) & \n",
    "        (df['longitude'] <= np.percentile(df['longitude'], 99.95))]\n"
   ]
  },
  {
   "cell_type": "code",
   "execution_count": 68,
   "metadata": {},
   "outputs": [],
   "source": [
    "# Export data\n",
    "path = '../data/project/'\n",
    "\n",
    "# Training data\n",
    "X_enginee.to_csv(path+'X_train_engineered.csv')\n",
    "y.to_csv(path+'y_train_engineered.csv')\n",
    "\n",
    "# Test data\n",
    "X_test_trans.to_csv(path+'X_test_engineered.csv')"
   ]
  },
  {
   "cell_type": "code",
   "execution_count": null,
   "metadata": {},
   "outputs": [],
   "source": []
  }
 ]
}